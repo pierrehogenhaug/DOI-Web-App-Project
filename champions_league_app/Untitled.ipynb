{
 "cells": [
  {
   "cell_type": "code",
   "execution_count": 33,
   "metadata": {},
   "outputs": [],
   "source": [
    "import sys\n",
    "sys.path.append('/Library/Frameworks/Python.framework/Versions/3.8/lib/python3.8/site-packages')"
   ]
  },
  {
   "cell_type": "code",
   "execution_count": 34,
   "id": "3599d5fe",
   "metadata": {},
   "outputs": [],
   "source": [
    "import pandas as pd\n",
    "\n",
    "import numpy as np"
   ]
  },
  {
   "cell_type": "markdown",
   "id": "8f55121b",
   "metadata": {},
   "source": [
    "DATE, COUNTRY, LEAGUE, TYPE, SEASON, HOMET_TEAM, AWAY_TEAM, FTR,FTHG,FTAG,A_COR,H_COR,A_FL,H_FL,A_RC,H_RC"
   ]
  },
  {
   "cell_type": "code",
   "execution_count": 35,
   "id": "6f46da79",
   "metadata": {
    "scrolled": true
   },
   "outputs": [
    {
     "output_type": "execute_result",
     "data": {
      "text/plain": [
       "           DATE COUNTRY            LEAGUE TYPE     SEASON  \\\n",
       "0    2020-08-08  Europe  Champions League  CUP  2020/2021   \n",
       "1    2020-08-08  Europe  Champions League  CUP  2020/2021   \n",
       "2    2020-08-18  Europe  Champions League  CUP  2020/2021   \n",
       "3    2020-08-18  Europe  Champions League  CUP  2020/2021   \n",
       "4    2020-08-18  Europe  Champions League  CUP  2020/2021   \n",
       "..          ...     ...               ...  ...        ...   \n",
       "172  2021-04-27  Europe  Champions League  CUP  2020/2021   \n",
       "173  2021-04-28  Europe  Champions League  CUP  2020/2021   \n",
       "174  2021-05-04  Europe  Champions League  CUP  2020/2021   \n",
       "175  2021-05-05  Europe  Champions League  CUP  2020/2021   \n",
       "176  2021-05-29  Europe  Champions League  CUP  2020/2021   \n",
       "\n",
       "               HOME_TEAM              AWAY_TEAM FTR  FTHG  FTAG  ... H_YC  \\\n",
       "0              Tre Fiori               Linfield   A     0     2  ...    0   \n",
       "1                  Drita  Inter Club d'Escaldes   H     2     1  ...    0   \n",
       "2                 Celtic                     KR   H     6     0  ...    0   \n",
       "3           Dinamo Brest                 Astana   H     6     3  ...    1   \n",
       "4          Crvena Zvezda              Europa FC   H     5     0  ...    1   \n",
       "..                   ...                    ...  ..   ...   ...  ...  ...   \n",
       "172          Real Madrid                Chelsea   D     1     1  ...    5   \n",
       "173  Paris Saint Germain        Manchester City   A     1     2  ...    2   \n",
       "174      Manchester City    Paris Saint Germain   H     2     0  ...    2   \n",
       "175              Chelsea            Real Madrid   H     2     0  ...    3   \n",
       "176      Manchester City                Chelsea   A     0     1  ...    2   \n",
       "\n",
       "     H_RC  A_ST A_SOG  A_SFG  A_PT A_COR  A_FL  A_YC A_RC  \n",
       "0       0     0   SNV    SNV   SNV     0   SNV     0    0  \n",
       "1       0     0   SNV    SNV   SNV     0   SNV     0    0  \n",
       "2       0     5     2      3    31     2     9     0    0  \n",
       "3       0    19    10      9    61    10     9     0    0  \n",
       "4       0     5     3      2    30     0     8     3    0  \n",
       "..    ...   ...   ...    ...   ...   ...   ...   ...  ...  \n",
       "172     0    10     4      6    50     6     9     1    0  \n",
       "173     1    11     6      5    60     4    15     2    0  \n",
       "174     0    15     1     14    56     6    13     4    1  \n",
       "175     0     7     5      2    68     3    12     4    0  \n",
       "176     0     8     2      6    40     1    13     1    0  \n",
       "\n",
       "[177 rows x 35 columns]"
      ],
      "text/html": "<div>\n<style scoped>\n    .dataframe tbody tr th:only-of-type {\n        vertical-align: middle;\n    }\n\n    .dataframe tbody tr th {\n        vertical-align: top;\n    }\n\n    .dataframe thead th {\n        text-align: right;\n    }\n</style>\n<table border=\"1\" class=\"dataframe\">\n  <thead>\n    <tr style=\"text-align: right;\">\n      <th></th>\n      <th>DATE</th>\n      <th>COUNTRY</th>\n      <th>LEAGUE</th>\n      <th>TYPE</th>\n      <th>SEASON</th>\n      <th>HOME_TEAM</th>\n      <th>AWAY_TEAM</th>\n      <th>FTR</th>\n      <th>FTHG</th>\n      <th>FTAG</th>\n      <th>...</th>\n      <th>H_YC</th>\n      <th>H_RC</th>\n      <th>A_ST</th>\n      <th>A_SOG</th>\n      <th>A_SFG</th>\n      <th>A_PT</th>\n      <th>A_COR</th>\n      <th>A_FL</th>\n      <th>A_YC</th>\n      <th>A_RC</th>\n    </tr>\n  </thead>\n  <tbody>\n    <tr>\n      <th>0</th>\n      <td>2020-08-08</td>\n      <td>Europe</td>\n      <td>Champions League</td>\n      <td>CUP</td>\n      <td>2020/2021</td>\n      <td>Tre Fiori</td>\n      <td>Linfield</td>\n      <td>A</td>\n      <td>0</td>\n      <td>2</td>\n      <td>...</td>\n      <td>0</td>\n      <td>0</td>\n      <td>0</td>\n      <td>SNV</td>\n      <td>SNV</td>\n      <td>SNV</td>\n      <td>0</td>\n      <td>SNV</td>\n      <td>0</td>\n      <td>0</td>\n    </tr>\n    <tr>\n      <th>1</th>\n      <td>2020-08-08</td>\n      <td>Europe</td>\n      <td>Champions League</td>\n      <td>CUP</td>\n      <td>2020/2021</td>\n      <td>Drita</td>\n      <td>Inter Club d'Escaldes</td>\n      <td>H</td>\n      <td>2</td>\n      <td>1</td>\n      <td>...</td>\n      <td>0</td>\n      <td>0</td>\n      <td>0</td>\n      <td>SNV</td>\n      <td>SNV</td>\n      <td>SNV</td>\n      <td>0</td>\n      <td>SNV</td>\n      <td>0</td>\n      <td>0</td>\n    </tr>\n    <tr>\n      <th>2</th>\n      <td>2020-08-18</td>\n      <td>Europe</td>\n      <td>Champions League</td>\n      <td>CUP</td>\n      <td>2020/2021</td>\n      <td>Celtic</td>\n      <td>KR</td>\n      <td>H</td>\n      <td>6</td>\n      <td>0</td>\n      <td>...</td>\n      <td>0</td>\n      <td>0</td>\n      <td>5</td>\n      <td>2</td>\n      <td>3</td>\n      <td>31</td>\n      <td>2</td>\n      <td>9</td>\n      <td>0</td>\n      <td>0</td>\n    </tr>\n    <tr>\n      <th>3</th>\n      <td>2020-08-18</td>\n      <td>Europe</td>\n      <td>Champions League</td>\n      <td>CUP</td>\n      <td>2020/2021</td>\n      <td>Dinamo Brest</td>\n      <td>Astana</td>\n      <td>H</td>\n      <td>6</td>\n      <td>3</td>\n      <td>...</td>\n      <td>1</td>\n      <td>0</td>\n      <td>19</td>\n      <td>10</td>\n      <td>9</td>\n      <td>61</td>\n      <td>10</td>\n      <td>9</td>\n      <td>0</td>\n      <td>0</td>\n    </tr>\n    <tr>\n      <th>4</th>\n      <td>2020-08-18</td>\n      <td>Europe</td>\n      <td>Champions League</td>\n      <td>CUP</td>\n      <td>2020/2021</td>\n      <td>Crvena Zvezda</td>\n      <td>Europa FC</td>\n      <td>H</td>\n      <td>5</td>\n      <td>0</td>\n      <td>...</td>\n      <td>1</td>\n      <td>0</td>\n      <td>5</td>\n      <td>3</td>\n      <td>2</td>\n      <td>30</td>\n      <td>0</td>\n      <td>8</td>\n      <td>3</td>\n      <td>0</td>\n    </tr>\n    <tr>\n      <th>...</th>\n      <td>...</td>\n      <td>...</td>\n      <td>...</td>\n      <td>...</td>\n      <td>...</td>\n      <td>...</td>\n      <td>...</td>\n      <td>...</td>\n      <td>...</td>\n      <td>...</td>\n      <td>...</td>\n      <td>...</td>\n      <td>...</td>\n      <td>...</td>\n      <td>...</td>\n      <td>...</td>\n      <td>...</td>\n      <td>...</td>\n      <td>...</td>\n      <td>...</td>\n      <td>...</td>\n    </tr>\n    <tr>\n      <th>172</th>\n      <td>2021-04-27</td>\n      <td>Europe</td>\n      <td>Champions League</td>\n      <td>CUP</td>\n      <td>2020/2021</td>\n      <td>Real Madrid</td>\n      <td>Chelsea</td>\n      <td>D</td>\n      <td>1</td>\n      <td>1</td>\n      <td>...</td>\n      <td>5</td>\n      <td>0</td>\n      <td>10</td>\n      <td>4</td>\n      <td>6</td>\n      <td>50</td>\n      <td>6</td>\n      <td>9</td>\n      <td>1</td>\n      <td>0</td>\n    </tr>\n    <tr>\n      <th>173</th>\n      <td>2021-04-28</td>\n      <td>Europe</td>\n      <td>Champions League</td>\n      <td>CUP</td>\n      <td>2020/2021</td>\n      <td>Paris Saint Germain</td>\n      <td>Manchester City</td>\n      <td>A</td>\n      <td>1</td>\n      <td>2</td>\n      <td>...</td>\n      <td>2</td>\n      <td>1</td>\n      <td>11</td>\n      <td>6</td>\n      <td>5</td>\n      <td>60</td>\n      <td>4</td>\n      <td>15</td>\n      <td>2</td>\n      <td>0</td>\n    </tr>\n    <tr>\n      <th>174</th>\n      <td>2021-05-04</td>\n      <td>Europe</td>\n      <td>Champions League</td>\n      <td>CUP</td>\n      <td>2020/2021</td>\n      <td>Manchester City</td>\n      <td>Paris Saint Germain</td>\n      <td>H</td>\n      <td>2</td>\n      <td>0</td>\n      <td>...</td>\n      <td>2</td>\n      <td>0</td>\n      <td>15</td>\n      <td>1</td>\n      <td>14</td>\n      <td>56</td>\n      <td>6</td>\n      <td>13</td>\n      <td>4</td>\n      <td>1</td>\n    </tr>\n    <tr>\n      <th>175</th>\n      <td>2021-05-05</td>\n      <td>Europe</td>\n      <td>Champions League</td>\n      <td>CUP</td>\n      <td>2020/2021</td>\n      <td>Chelsea</td>\n      <td>Real Madrid</td>\n      <td>H</td>\n      <td>2</td>\n      <td>0</td>\n      <td>...</td>\n      <td>3</td>\n      <td>0</td>\n      <td>7</td>\n      <td>5</td>\n      <td>2</td>\n      <td>68</td>\n      <td>3</td>\n      <td>12</td>\n      <td>4</td>\n      <td>0</td>\n    </tr>\n    <tr>\n      <th>176</th>\n      <td>2021-05-29</td>\n      <td>Europe</td>\n      <td>Champions League</td>\n      <td>CUP</td>\n      <td>2020/2021</td>\n      <td>Manchester City</td>\n      <td>Chelsea</td>\n      <td>A</td>\n      <td>0</td>\n      <td>1</td>\n      <td>...</td>\n      <td>2</td>\n      <td>0</td>\n      <td>8</td>\n      <td>2</td>\n      <td>6</td>\n      <td>40</td>\n      <td>1</td>\n      <td>13</td>\n      <td>1</td>\n      <td>0</td>\n    </tr>\n  </tbody>\n</table>\n<p>177 rows × 35 columns</p>\n</div>"
     },
     "metadata": {},
     "execution_count": 35
    }
   ],
   "source": [
    "df = pd.read_csv ('CL_data.csv')\n",
    "df"
   ]
  },
  {
   "cell_type": "code",
   "execution_count": 36,
   "id": "9038ec28",
   "metadata": {},
   "outputs": [],
   "source": [
    "newDB = df[['DATE','COUNTRY','LEAGUE', 'SEASON', 'HOME_TEAM', 'AWAY_TEAM', 'FTR','FTHG','FTAG','A_COR','H_COR','A_FL','H_FL','A_RC','H_RC']]"
   ]
  },
  {
   "cell_type": "code",
   "execution_count": 37,
   "id": "5c0b729b",
   "metadata": {},
   "outputs": [],
   "source": [
    "newDB.to_pickle('skrt.db')"
   ]
  },
  {
   "cell_type": "code",
   "execution_count": 38,
   "id": "6784cc1f",
   "metadata": {},
   "outputs": [],
   "source": [
    "col = np.linspace(0,176,177)"
   ]
  },
  {
   "cell_type": "code",
   "execution_count": 39,
   "id": "7fc4b1f5",
   "metadata": {
    "scrolled": true
   },
   "outputs": [
    {
     "output_type": "execute_result",
     "data": {
      "text/plain": [
       "           DATE COUNTRY            LEAGUE     SEASON            HOME_TEAM  \\\n",
       "0    2020-08-08  Europe  Champions League  2020/2021            Tre Fiori   \n",
       "1    2020-08-08  Europe  Champions League  2020/2021                Drita   \n",
       "2    2020-08-18  Europe  Champions League  2020/2021               Celtic   \n",
       "3    2020-08-18  Europe  Champions League  2020/2021         Dinamo Brest   \n",
       "4    2020-08-18  Europe  Champions League  2020/2021        Crvena Zvezda   \n",
       "..          ...     ...               ...        ...                  ...   \n",
       "172  2021-04-27  Europe  Champions League  2020/2021          Real Madrid   \n",
       "173  2021-04-28  Europe  Champions League  2020/2021  Paris Saint Germain   \n",
       "174  2021-05-04  Europe  Champions League  2020/2021      Manchester City   \n",
       "175  2021-05-05  Europe  Champions League  2020/2021              Chelsea   \n",
       "176  2021-05-29  Europe  Champions League  2020/2021      Manchester City   \n",
       "\n",
       "                 AWAY_TEAM FTR  FTHG  FTAG A_COR H_COR A_FL H_FL A_RC H_RC  \n",
       "0                 Linfield   A     0     2     0     0  SNV  SNV    0    0  \n",
       "1    Inter Club d'Escaldes   H     2     1     0     0  SNV  SNV    0    0  \n",
       "2                       KR   H     6     0     2     9    9    5    0    0  \n",
       "3                   Astana   H     6     3    10     3    9    6    0    0  \n",
       "4                Europa FC   H     5     0     0     6    8   11    0    0  \n",
       "..                     ...  ..   ...   ...   ...   ...  ...  ...  ...  ...  \n",
       "172                Chelsea   D     1     1     6     4    9   11    0    0  \n",
       "173        Manchester City   A     1     2     4     6   15   10    0    1  \n",
       "174    Paris Saint Germain   H     2     0     6     6   13   16    1    0  \n",
       "175            Real Madrid   H     2     0     3     1   12   18    0    0  \n",
       "176                Chelsea   A     0     1     1     3   13   14    0    0  \n",
       "\n",
       "[177 rows x 15 columns]"
      ],
      "text/html": "<div>\n<style scoped>\n    .dataframe tbody tr th:only-of-type {\n        vertical-align: middle;\n    }\n\n    .dataframe tbody tr th {\n        vertical-align: top;\n    }\n\n    .dataframe thead th {\n        text-align: right;\n    }\n</style>\n<table border=\"1\" class=\"dataframe\">\n  <thead>\n    <tr style=\"text-align: right;\">\n      <th></th>\n      <th>DATE</th>\n      <th>COUNTRY</th>\n      <th>LEAGUE</th>\n      <th>SEASON</th>\n      <th>HOME_TEAM</th>\n      <th>AWAY_TEAM</th>\n      <th>FTR</th>\n      <th>FTHG</th>\n      <th>FTAG</th>\n      <th>A_COR</th>\n      <th>H_COR</th>\n      <th>A_FL</th>\n      <th>H_FL</th>\n      <th>A_RC</th>\n      <th>H_RC</th>\n    </tr>\n  </thead>\n  <tbody>\n    <tr>\n      <th>0</th>\n      <td>2020-08-08</td>\n      <td>Europe</td>\n      <td>Champions League</td>\n      <td>2020/2021</td>\n      <td>Tre Fiori</td>\n      <td>Linfield</td>\n      <td>A</td>\n      <td>0</td>\n      <td>2</td>\n      <td>0</td>\n      <td>0</td>\n      <td>SNV</td>\n      <td>SNV</td>\n      <td>0</td>\n      <td>0</td>\n    </tr>\n    <tr>\n      <th>1</th>\n      <td>2020-08-08</td>\n      <td>Europe</td>\n      <td>Champions League</td>\n      <td>2020/2021</td>\n      <td>Drita</td>\n      <td>Inter Club d'Escaldes</td>\n      <td>H</td>\n      <td>2</td>\n      <td>1</td>\n      <td>0</td>\n      <td>0</td>\n      <td>SNV</td>\n      <td>SNV</td>\n      <td>0</td>\n      <td>0</td>\n    </tr>\n    <tr>\n      <th>2</th>\n      <td>2020-08-18</td>\n      <td>Europe</td>\n      <td>Champions League</td>\n      <td>2020/2021</td>\n      <td>Celtic</td>\n      <td>KR</td>\n      <td>H</td>\n      <td>6</td>\n      <td>0</td>\n      <td>2</td>\n      <td>9</td>\n      <td>9</td>\n      <td>5</td>\n      <td>0</td>\n      <td>0</td>\n    </tr>\n    <tr>\n      <th>3</th>\n      <td>2020-08-18</td>\n      <td>Europe</td>\n      <td>Champions League</td>\n      <td>2020/2021</td>\n      <td>Dinamo Brest</td>\n      <td>Astana</td>\n      <td>H</td>\n      <td>6</td>\n      <td>3</td>\n      <td>10</td>\n      <td>3</td>\n      <td>9</td>\n      <td>6</td>\n      <td>0</td>\n      <td>0</td>\n    </tr>\n    <tr>\n      <th>4</th>\n      <td>2020-08-18</td>\n      <td>Europe</td>\n      <td>Champions League</td>\n      <td>2020/2021</td>\n      <td>Crvena Zvezda</td>\n      <td>Europa FC</td>\n      <td>H</td>\n      <td>5</td>\n      <td>0</td>\n      <td>0</td>\n      <td>6</td>\n      <td>8</td>\n      <td>11</td>\n      <td>0</td>\n      <td>0</td>\n    </tr>\n    <tr>\n      <th>...</th>\n      <td>...</td>\n      <td>...</td>\n      <td>...</td>\n      <td>...</td>\n      <td>...</td>\n      <td>...</td>\n      <td>...</td>\n      <td>...</td>\n      <td>...</td>\n      <td>...</td>\n      <td>...</td>\n      <td>...</td>\n      <td>...</td>\n      <td>...</td>\n      <td>...</td>\n    </tr>\n    <tr>\n      <th>172</th>\n      <td>2021-04-27</td>\n      <td>Europe</td>\n      <td>Champions League</td>\n      <td>2020/2021</td>\n      <td>Real Madrid</td>\n      <td>Chelsea</td>\n      <td>D</td>\n      <td>1</td>\n      <td>1</td>\n      <td>6</td>\n      <td>4</td>\n      <td>9</td>\n      <td>11</td>\n      <td>0</td>\n      <td>0</td>\n    </tr>\n    <tr>\n      <th>173</th>\n      <td>2021-04-28</td>\n      <td>Europe</td>\n      <td>Champions League</td>\n      <td>2020/2021</td>\n      <td>Paris Saint Germain</td>\n      <td>Manchester City</td>\n      <td>A</td>\n      <td>1</td>\n      <td>2</td>\n      <td>4</td>\n      <td>6</td>\n      <td>15</td>\n      <td>10</td>\n      <td>0</td>\n      <td>1</td>\n    </tr>\n    <tr>\n      <th>174</th>\n      <td>2021-05-04</td>\n      <td>Europe</td>\n      <td>Champions League</td>\n      <td>2020/2021</td>\n      <td>Manchester City</td>\n      <td>Paris Saint Germain</td>\n      <td>H</td>\n      <td>2</td>\n      <td>0</td>\n      <td>6</td>\n      <td>6</td>\n      <td>13</td>\n      <td>16</td>\n      <td>1</td>\n      <td>0</td>\n    </tr>\n    <tr>\n      <th>175</th>\n      <td>2021-05-05</td>\n      <td>Europe</td>\n      <td>Champions League</td>\n      <td>2020/2021</td>\n      <td>Chelsea</td>\n      <td>Real Madrid</td>\n      <td>H</td>\n      <td>2</td>\n      <td>0</td>\n      <td>3</td>\n      <td>1</td>\n      <td>12</td>\n      <td>18</td>\n      <td>0</td>\n      <td>0</td>\n    </tr>\n    <tr>\n      <th>176</th>\n      <td>2021-05-29</td>\n      <td>Europe</td>\n      <td>Champions League</td>\n      <td>2020/2021</td>\n      <td>Manchester City</td>\n      <td>Chelsea</td>\n      <td>A</td>\n      <td>0</td>\n      <td>1</td>\n      <td>1</td>\n      <td>3</td>\n      <td>13</td>\n      <td>14</td>\n      <td>0</td>\n      <td>0</td>\n    </tr>\n  </tbody>\n</table>\n<p>177 rows × 15 columns</p>\n</div>"
     },
     "metadata": {},
     "execution_count": 39
    }
   ],
   "source": [
    "#newDB.insert(0,'MATCHID',col,allow_duplicates = True)\n",
    "newDB\n"
   ]
  },
  {
   "cell_type": "code",
   "execution_count": 40,
   "id": "7226c9f3",
   "metadata": {},
   "outputs": [],
   "source": [
    "#newDB.to_csv('skrt.csv')"
   ]
  },
  {
   "cell_type": "code",
   "execution_count": 41,
   "id": "e59295ec",
   "metadata": {},
   "outputs": [
    {
     "output_type": "execute_result",
     "data": {
      "text/plain": [
       "array(['Tre Fiori', 'Drita', 'Celtic', 'Dinamo Brest', 'Crvena Zvezda',\n",
       "       'Legia Warszawa', 'QarabaÄŸ', 'Dinamo Tbilisi', 'Ararat-Armenia',\n",
       "       'Celje', 'Sheriff', 'FerencvÃ¡ros', 'BuduÄ‡nost', 'Floriana',\n",
       "       'Molde', 'Flora', 'Maccabi Tel Aviv', \"Connah's Quay\", 'KÃ\\x8d',\n",
       "       'PAOK', 'Tirana', 'Lokomotiva Zagreb', 'Celje', 'QarabaÄŸ',\n",
       "       'AZ Alkmaar', 'SÅ«duva', 'Celtic', 'Young Boys', 'Ludogorets',\n",
       "       'Dinamo Brest', 'Legia Warszawa', 'CFR Cluj', 'PAOK',\n",
       "       'Dynamo Kyiv', 'Gent', 'Omonia Nicosia', 'QarabaÄŸ', 'Midtjylland',\n",
       "       'FerencvÃ¡ros', 'Maccabi Tel Aviv', 'Maccabi Tel Aviv',\n",
       "       'Slavia Praha', 'Krasnodar', 'Olympiakos Piraeus', 'Molde', 'Gent',\n",
       "       'Omonia Nicosia', 'FerencvÃ¡ros', 'Dynamo Kyiv', 'PAOK',\n",
       "       'Midtjylland', 'Salzburg', 'Paris Saint Germain', 'Rennes',\n",
       "       'Zenit', 'Dynamo Kyiv', 'Barcelona', 'Chelsea', 'RB Leipzig',\n",
       "       'Lazio', 'Inter', 'Olympiakos Piraeus', 'Manchester City',\n",
       "       'Salzburg', 'Midtjylland', 'Ajax', 'Real Madrid',\n",
       "       'Bayern MÃ¼nchen', 'Porto', 'Lokomotiv Moskva', 'Atalanta',\n",
       "       'Olympique Marseille', 'AtlÃ©tico Madrid', \"Borussia M'gladbach\",\n",
       "       'Shakhtar Donetsk', 'Liverpool', 'Manchester United',\n",
       "       'Borussia Dortmund', 'Ä°stanbul BaÅŸakÅŸehir', 'FerencvÃ¡ros',\n",
       "       'Sevilla', 'Juventus', 'Club Brugge', 'Krasnodar',\n",
       "       'Shakhtar Donetsk', 'Manchester City', 'Real Madrid', 'Salzburg',\n",
       "       'Lokomotiv Moskva', 'Midtjylland', 'Porto', 'Atalanta', 'Sevilla',\n",
       "       'FerencvÃ¡ros', 'Barcelona', 'Chelsea', 'Zenit',\n",
       "       'Ä°stanbul BaÅŸakÅŸehir', 'RB Leipzig', 'Club Brugge',\n",
       "       'Manchester United', 'Rennes', 'Lazio', 'Borussia Dortmund',\n",
       "       'Juventus', 'Paris Saint Germain', 'Dynamo Kyiv', 'Krasnodar',\n",
       "       'Olympique Marseille', 'Liverpool', 'Olympiakos Piraeus',\n",
       "       'AtlÃ©tico Madrid', \"Borussia M'gladbach\", 'Inter',\n",
       "       'Bayern MÃ¼nchen', 'Ajax', \"Borussia M'gladbach\",\n",
       "       'Olympique Marseille', 'Porto', 'AtlÃ©tico Madrid', 'Liverpool',\n",
       "       'Atalanta', 'Lokomotiv Moskva', 'Shakhtar Donetsk', 'FerencvÃ¡ros',\n",
       "       'Krasnodar', 'Borussia Dortmund', 'Club Brugge', 'Juventus',\n",
       "       'Sevilla', 'Ä°stanbul BaÅŸakÅŸehir', 'Manchester United',\n",
       "       'Barcelona', 'Zenit', 'RB Leipzig', 'Dynamo Kyiv', 'Lazio',\n",
       "       'Rennes', 'Chelsea', 'Ajax', 'Salzburg', 'Paris Saint Germain',\n",
       "       'Olympiakos Piraeus', 'Bayern MÃ¼nchen', 'Manchester City',\n",
       "       'Inter', 'Real Madrid', 'Midtjylland', 'Barcelona', 'RB Leipzig',\n",
       "       'Sevilla', 'Porto', 'Lazio', 'AtlÃ©tico Madrid', 'Atalanta',\n",
       "       \"Borussia M'gladbach\", 'Borussia Dortmund', 'Juventus',\n",
       "       'Paris Saint Germain', 'Liverpool', 'Manchester City',\n",
       "       'Real Madrid', 'Chelsea', 'Bayern MÃ¼nchen', 'Manchester City',\n",
       "       'Real Madrid', 'Bayern MÃ¼nchen', 'Porto', 'Chelsea',\n",
       "       'Paris Saint Germain', 'Liverpool', 'Borussia Dortmund',\n",
       "       'Real Madrid', 'Paris Saint Germain', 'Manchester City', 'Chelsea',\n",
       "       'Manchester City'], dtype=object)"
      ]
     },
     "metadata": {},
     "execution_count": 41
    }
   ],
   "source": [
    "newDB['HOME_TEAM'].values"
   ]
  },
  {
   "cell_type": "code",
   "execution_count": 42,
   "id": "7619c3b8",
   "metadata": {},
   "outputs": [],
   "source": [
    "I = (newDB['HOME_TEAM'] == 'Bayern MÃ¼nchen')\n"
   ]
  },
  {
   "cell_type": "code",
   "execution_count": 43,
   "metadata": {},
   "outputs": [],
   "source": [
    "I = (newDB['AWAY_TEAM'] == 'Bayern MÃ¼nchen')"
   ]
  },
  {
   "cell_type": "code",
   "execution_count": 44,
   "id": "96f84401",
   "metadata": {},
   "outputs": [
    {
     "output_type": "stream",
     "name": "stderr",
     "text": [
      "/Library/Frameworks/Python.framework/Versions/3.8/lib/python3.8/site-packages/pandas/core/indexing.py:1720: SettingWithCopyWarning: \nA value is trying to be set on a copy of a slice from a DataFrame.\nTry using .loc[row_indexer,col_indexer] = value instead\n\nSee the caveats in the documentation: https://pandas.pydata.org/pandas-docs/stable/user_guide/indexing.html#returning-a-view-versus-a-copy\n  self._setitem_single_column(loc, value, pi)\n"
     ]
    }
   ],
   "source": [
    "newDB.loc[I,'HOME_TEAM'] = 'Bayern Munchen'"
   ]
  },
  {
   "cell_type": "code",
   "execution_count": 45,
   "metadata": {},
   "outputs": [],
   "source": [
    "newDB.loc[I,'AWAY_TEAM'] = 'Bayern Munchen'"
   ]
  },
  {
   "cell_type": "code",
   "execution_count": 46,
   "id": "6b981d82",
   "metadata": {},
   "outputs": [],
   "source": [
    "I = (newDB['HOME_TEAM'] == 'AtlÃ©tico Madrid')"
   ]
  },
  {
   "cell_type": "code",
   "execution_count": 47,
   "id": "c319f0a5",
   "metadata": {},
   "outputs": [],
   "source": [
    "newDB.loc[I,'HOME_TEAM'] = 'Atletico Madrid'"
   ]
  },
  {
   "cell_type": "code",
   "execution_count": 48,
   "id": "b2582671",
   "metadata": {},
   "outputs": [],
   "source": [
    "I = (newDB['HOME_TEAM'] == 'Ä°stanbul BaÅŸakÅŸehir')"
   ]
  },
  {
   "cell_type": "code",
   "execution_count": 49,
   "id": "96f84401",
   "metadata": {},
   "outputs": [],
   "source": [
    "newDB.loc[I,'HOME_TEAM'] = 'Istanbul Basaksehir'"
   ]
  },
  {
   "cell_type": "code",
   "execution_count": 50,
   "id": "75d33b68",
   "metadata": {},
   "outputs": [],
   "source": [
    "I = (newDB['HOME_TEAM'] == 'SÅ«duva')"
   ]
  },
  {
   "cell_type": "code",
   "execution_count": 51,
   "id": "96f84401",
   "metadata": {},
   "outputs": [],
   "source": [
    "newDB.loc[I,'HOME_TEAM'] = 'Suduva'"
   ]
  },
  {
   "cell_type": "code",
   "execution_count": 52,
   "id": "8f506418",
   "metadata": {},
   "outputs": [],
   "source": [
    "I = (newDB['HOME_TEAM'] == 'BuduÄ‡nost')"
   ]
  },
  {
   "cell_type": "code",
   "execution_count": 53,
   "id": "96f84401",
   "metadata": {},
   "outputs": [],
   "source": [
    "newDB.loc[I,'HOME_TEAM'] = 'Buducnost '"
   ]
  },
  {
   "cell_type": "code",
   "execution_count": 54,
   "id": "f7108030",
   "metadata": {},
   "outputs": [],
   "source": [
    "I = (newDB['HOME_TEAM'] == 'FerencvÃ¡ros')"
   ]
  },
  {
   "cell_type": "code",
   "execution_count": 55,
   "id": "96f84401",
   "metadata": {},
   "outputs": [],
   "source": [
    "newDB.loc[I,'HOME_TEAM'] = 'Ferencvarosi'"
   ]
  },
  {
   "cell_type": "code",
   "execution_count": 56,
   "id": "6a9c37e4",
   "metadata": {},
   "outputs": [],
   "source": [
    "I = (newDB['HOME_TEAM'] == 'KÃ\\x8d')"
   ]
  },
  {
   "cell_type": "code",
   "execution_count": 57,
   "id": "96f84401",
   "metadata": {},
   "outputs": [],
   "source": [
    "newDB.loc[I,'HOME_TEAM'] = 'KI'"
   ]
  },
  {
   "cell_type": "code",
   "execution_count": 58,
   "id": "a53c9ebc",
   "metadata": {},
   "outputs": [],
   "source": [
    "I = (newDB['HOME_TEAM'] == 'QarabaÄŸ')"
   ]
  },
  {
   "cell_type": "code",
   "execution_count": 59,
   "id": "96f84401",
   "metadata": {},
   "outputs": [],
   "source": [
    "newDB.loc[I,'HOME_TEAM'] = 'Qarabag'"
   ]
  },
  {
   "cell_type": "code",
   "execution_count": 60,
   "id": "f712a45c",
   "metadata": {},
   "outputs": [],
   "source": [
    "I = (newDB['HOME_TEAM'] == 'QarabaÄŸ')"
   ]
  },
  {
   "cell_type": "code",
   "execution_count": 61,
   "id": "96f84401",
   "metadata": {},
   "outputs": [],
   "source": [
    "newDB.loc[I,'HOME_TEAM'] = 'Qarabag'"
   ]
  },
  {
   "cell_type": "code",
   "execution_count": 62,
   "id": "369f5c3b",
   "metadata": {},
   "outputs": [
    {
     "output_type": "execute_result",
     "data": {
      "text/plain": [
       "array(['Tre Fiori', 'Drita', 'Celtic', 'Dinamo Brest', 'Crvena Zvezda',\n",
       "       'Legia Warszawa', 'Qarabag', 'Dinamo Tbilisi', 'Ararat-Armenia',\n",
       "       'Celje', 'Sheriff', 'Ferencvarosi', 'Buducnost ', 'Floriana',\n",
       "       'Molde', 'Flora', 'Maccabi Tel Aviv', \"Connah's Quay\", 'KI',\n",
       "       'PAOK', 'Tirana', 'Lokomotiva Zagreb', 'Celje', 'Qarabag',\n",
       "       'AZ Alkmaar', 'Suduva', 'Celtic', 'Young Boys', 'Ludogorets',\n",
       "       'Dinamo Brest', 'Legia Warszawa', 'CFR Cluj', 'PAOK',\n",
       "       'Dynamo Kyiv', 'Gent', 'Omonia Nicosia', 'Qarabag', 'Midtjylland',\n",
       "       'Ferencvarosi', 'Maccabi Tel Aviv', 'Maccabi Tel Aviv',\n",
       "       'Slavia Praha', 'Krasnodar', 'Olympiakos Piraeus', 'Molde', 'Gent',\n",
       "       'Omonia Nicosia', 'Ferencvarosi', 'Dynamo Kyiv', 'PAOK',\n",
       "       'Midtjylland', 'Salzburg', 'Paris Saint Germain', 'Rennes',\n",
       "       'Zenit', 'Dynamo Kyiv', 'Barcelona', 'Chelsea', 'RB Leipzig',\n",
       "       'Lazio', 'Inter', 'Olympiakos Piraeus', 'Manchester City',\n",
       "       'Salzburg', 'Midtjylland', 'Ajax', 'Real Madrid',\n",
       "       'Bayern MÃ¼nchen', 'Porto', 'Bayern Munchen', 'Atalanta',\n",
       "       'Olympique Marseille', 'Atletico Madrid', \"Borussia M'gladbach\",\n",
       "       'Shakhtar Donetsk', 'Liverpool', 'Manchester United',\n",
       "       'Borussia Dortmund', 'Istanbul Basaksehir', 'Ferencvarosi',\n",
       "       'Sevilla', 'Juventus', 'Club Brugge', 'Krasnodar',\n",
       "       'Shakhtar Donetsk', 'Manchester City', 'Real Madrid',\n",
       "       'Bayern Munchen', 'Lokomotiv Moskva', 'Midtjylland', 'Porto',\n",
       "       'Atalanta', 'Sevilla', 'Ferencvarosi', 'Barcelona', 'Chelsea',\n",
       "       'Zenit', 'Istanbul Basaksehir', 'RB Leipzig', 'Club Brugge',\n",
       "       'Manchester United', 'Rennes', 'Lazio', 'Borussia Dortmund',\n",
       "       'Juventus', 'Paris Saint Germain', 'Dynamo Kyiv', 'Krasnodar',\n",
       "       'Olympique Marseille', 'Liverpool', 'Olympiakos Piraeus',\n",
       "       'Atletico Madrid', \"Borussia M'gladbach\", 'Inter',\n",
       "       'Bayern MÃ¼nchen', 'Ajax', \"Borussia M'gladbach\",\n",
       "       'Olympique Marseille', 'Porto', 'Bayern Munchen', 'Liverpool',\n",
       "       'Atalanta', 'Lokomotiv Moskva', 'Shakhtar Donetsk', 'Ferencvarosi',\n",
       "       'Krasnodar', 'Borussia Dortmund', 'Club Brugge', 'Juventus',\n",
       "       'Sevilla', 'Istanbul Basaksehir', 'Manchester United', 'Barcelona',\n",
       "       'Zenit', 'RB Leipzig', 'Dynamo Kyiv', 'Lazio', 'Rennes', 'Chelsea',\n",
       "       'Ajax', 'Salzburg', 'Paris Saint Germain', 'Olympiakos Piraeus',\n",
       "       'Bayern MÃ¼nchen', 'Manchester City', 'Inter', 'Real Madrid',\n",
       "       'Midtjylland', 'Barcelona', 'RB Leipzig', 'Sevilla', 'Porto',\n",
       "       'Bayern Munchen', 'Atletico Madrid', 'Atalanta',\n",
       "       \"Borussia M'gladbach\", 'Borussia Dortmund', 'Juventus',\n",
       "       'Paris Saint Germain', 'Liverpool', 'Manchester City',\n",
       "       'Real Madrid', 'Chelsea', 'Bayern MÃ¼nchen', 'Manchester City',\n",
       "       'Real Madrid', 'Bayern MÃ¼nchen', 'Porto', 'Chelsea',\n",
       "       'Bayern Munchen', 'Liverpool', 'Borussia Dortmund', 'Real Madrid',\n",
       "       'Paris Saint Germain', 'Manchester City', 'Chelsea',\n",
       "       'Manchester City'], dtype=object)"
      ]
     },
     "metadata": {},
     "execution_count": 62
    }
   ],
   "source": [
    "newDB['HOME_TEAM'].values"
   ]
  },
  {
   "cell_type": "code",
   "execution_count": 63,
   "id": "63140d63",
   "metadata": {},
   "outputs": [],
   "source": [
    "newDB.to_csv('skrt.csv')"
   ]
  },
  {
   "cell_type": "code",
   "execution_count": 64,
   "id": "bd5d4387",
   "metadata": {},
   "outputs": [],
   "source": [
    "newDB.to_pickle(\"asd.db\")\n"
   ]
  },
  {
   "cell_type": "code",
   "execution_count": 65,
   "id": "e79ce00c",
   "metadata": {},
   "outputs": [
    {
     "output_type": "execute_result",
     "data": {
      "text/plain": [
       "['str',\n",
       " 'str',\n",
       " 'str',\n",
       " 'str',\n",
       " 'str',\n",
       " 'str',\n",
       " 'str',\n",
       " 'str',\n",
       " 'str',\n",
       " 'str',\n",
       " 'str',\n",
       " 'str',\n",
       " 'str',\n",
       " 'str',\n",
       " 'str',\n",
       " 'str']"
      ]
     },
     "metadata": {},
     "execution_count": 65
    }
   ],
   "source": [
    "['str']*16"
   ]
  },
  {
   "cell_type": "code",
   "execution_count": null,
   "id": "a0255f19",
   "metadata": {},
   "outputs": [],
   "source": []
  },
  {
   "cell_type": "code",
   "execution_count": null,
   "id": "07575500",
   "metadata": {},
   "outputs": [],
   "source": []
  },
  {
   "cell_type": "code",
   "execution_count": null,
   "metadata": {},
   "outputs": [],
   "source": []
  }
 ],
 "metadata": {
  "kernelspec": {
   "name": "python38264bit06626fc8ebe746ea8e94f8b3f35cd2a5",
   "display_name": "Python 3.8.2 64-bit"
  },
  "language_info": {
   "codemirror_mode": {
    "name": "ipython",
    "version": 3
   },
   "file_extension": ".py",
   "mimetype": "text/x-python",
   "name": "python",
   "nbconvert_exporter": "python",
   "pygments_lexer": "ipython3",
   "version": "3.8.2"
  },
  "metadata": {
   "interpreter": {
    "hash": "31f2aee4e71d21fbe5cf8b01ff0e069b9275f58929596ceb00d14d90e3e16cd6"
   }
  }
 },
 "nbformat": 4,
 "nbformat_minor": 5
}